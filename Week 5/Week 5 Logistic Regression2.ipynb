{
 "cells": [
  {
   "cell_type": "markdown",
   "metadata": {},
   "source": [
    "# Logistic Regression\n",
    "\n",
    "我們將透過這份作業學習 Logistic Regression。"
   ]
  },
  {
   "cell_type": "markdown",
   "metadata": {},
   "source": [
    "## 1 - Packages ##\n",
    "\n",
    "首先，我們需要 import 一些需要使用到的套件。\n",
    "- [numpy](http://www.numpy.org) 是 Python 的擴充程式庫，提供大量的數學函式庫與矩陣運算等。\n",
    "- [Pandas](http://pandas.pydata.org) 是一個提供數據分析的 Python 函式庫。\n",
    "- [Scikit-learn](http://scikit-learn.org) 是一個提供 Machine Learning 運算的函式庫。"
   ]
  },
  {
   "cell_type": "code",
   "execution_count": 1,
   "metadata": {},
   "outputs": [],
   "source": [
    "import numpy as np\n",
    "import pandas as pd\n",
    "from sklearn import datasets, linear_model"
   ]
  },
  {
   "cell_type": "markdown",
   "metadata": {},
   "source": [
    "## 2 - Overview of the Dataset\n",
    "我們有一個 Dataset 包含\n",
    "- X\n",
    "- Y1\n",
    "- Y2\n",
    "- Y3\n",
    "\n",
    "我們之後會透過 Scikit-learn 來找出他們之間的關係。\n",
    "\n",
    "首先，我們透過 `pd.read_csv()` 來讀取 csv 檔案。"
   ]
  },
  {
   "cell_type": "code",
   "execution_count": 2,
   "metadata": {},
   "outputs": [],
   "source": [
    "# csv 檔案的位置\n",
    "csv_file = \"logistic.regression.basic.csv\"\n",
    "\n",
    "# 讀取 csv\n",
    "dataset = pd.read_csv(csv_file)"
   ]
  },
  {
   "cell_type": "markdown",
   "metadata": {},
   "source": [
    "`dataset`是一個 DataFrame，我們可以使用 `print()` 來看看 dataset。"
   ]
  },
  {
   "cell_type": "code",
   "execution_count": 3,
   "metadata": {},
   "outputs": [
    {
     "name": "stdout",
     "output_type": "stream",
     "text": [
      "          a1  class0   class1 class2\n",
      "0   -3.39726       0  IMPROVE     C3\n",
      "1   -1.96212       0  IMPROVE     C3\n",
      "2    3.53738       1     PASS     C0\n",
      "3    1.44982       1     PASS     C0\n",
      "4    1.54657       1     PASS     C0\n",
      "5    1.54977       1     PASS     C0\n",
      "6   -2.30432       0  IMPROVE     C3\n",
      "7    0.51310       1     PASS     C1\n",
      "8   -0.19312       1     PASS     C1\n",
      "9   -0.04935       1     PASS     C1\n",
      "10   0.52829       1     PASS     C1\n",
      "11   1.67465       1     PASS     C0\n",
      "12  -2.69680       0  IMPROVE     C3\n",
      "13   1.15796       1     PASS     C0\n",
      "14   1.26195       1     PASS     C0\n",
      "15   3.37797       1     PASS     C0\n",
      "16   1.67087       1     PASS     C0\n",
      "17   1.00676       1     PASS     C1\n",
      "18  -0.74247       1     PASS     C2\n",
      "19  -0.66371       1     PASS     C2\n",
      "20   1.64130       1     PASS     C0\n",
      "21  -2.87262       0  IMPROVE     C3\n",
      "22   1.40634       1     PASS     C0\n",
      "23  -0.63676       1     PASS     C2\n",
      "24   0.61014       1     PASS     C1\n",
      "25   4.44448       1     PASS     C0\n",
      "26  -1.40648       0  IMPROVE     C2\n",
      "27   1.72574       1     PASS     C0\n",
      "28  -1.11772       0  IMPROVE     C2\n",
      "29   0.24885       1     PASS     C1\n",
      "..       ...     ...      ...    ...\n",
      "270 -4.35020       0  IMPROVE     C3\n",
      "271 -3.06865       0  IMPROVE     C3\n",
      "272  1.06024       1     PASS     C1\n",
      "273  0.72395       1     PASS     C1\n",
      "274 -1.84870       0  IMPROVE     C3\n",
      "275 -2.35465       0  IMPROVE     C3\n",
      "276  1.71675       1     PASS     C0\n",
      "277 -0.60528       1     PASS     C2\n",
      "278  0.53397       1     PASS     C1\n",
      "279  3.19186       1     PASS     C0\n",
      "280 -1.65618       0  IMPROVE     C2\n",
      "281  2.22504       1     PASS     C0\n",
      "282  2.00049       1     PASS     C0\n",
      "283  3.79699       1     PASS     C0\n",
      "284  2.57640       1     PASS     C0\n",
      "285  0.39175       1     PASS     C1\n",
      "286 -2.46518       0  IMPROVE     C3\n",
      "287 -3.93521       0  IMPROVE     C3\n",
      "288  0.96071       1     PASS     C1\n",
      "289  2.30353       1     PASS     C0\n",
      "290 -1.62918       0  IMPROVE     C2\n",
      "291 -0.89590       0  IMPROVE     C2\n",
      "292 -0.18059       1     PASS     C1\n",
      "293 -3.55255       0  IMPROVE     C3\n",
      "294  0.54773       1     PASS     C1\n",
      "295 -0.88460       0  IMPROVE     C2\n",
      "296 -1.36257       0  IMPROVE     C2\n",
      "297  1.45044       1     PASS     C0\n",
      "298  1.05007       1     PASS     C1\n",
      "299 -0.69911       1     PASS     C2\n",
      "\n",
      "[300 rows x 4 columns]\n"
     ]
    }
   ],
   "source": [
    "# 印出 dataset\n",
    "print(dataset)"
   ]
  },
  {
   "cell_type": "markdown",
   "metadata": {},
   "source": [
    "我們分別取出 `data_X`, `data_C1`, `data_C2`, `data_C3`。\n",
    "- 我們可以使用 [`iloc`](https://pandas.pydata.org/pandas-docs/stable/reference/api/pandas.DataFrame.iloc.html)取得數據。"
   ]
  },
  {
   "cell_type": "code",
   "execution_count": 4,
   "metadata": {},
   "outputs": [],
   "source": [
    "# 取出 X\n",
    "data_X = dataset.iloc[:, 0]\n",
    "\n",
    "# 取出 C1\n",
    "data_C1 = dataset.iloc[:, 1]\n",
    "\n",
    "# 取出 C2\n",
    "data_C2 = dataset.iloc[:, 2]\n",
    "\n",
    "# 取出 C3\n",
    "data_C3 = dataset.iloc[:, 3]"
   ]
  },
  {
   "cell_type": "markdown",
   "metadata": {},
   "source": [
    "我們可以觀察這些變數的 `type` 和 `shape`:"
   ]
  },
  {
   "cell_type": "code",
   "execution_count": 5,
   "metadata": {},
   "outputs": [
    {
     "name": "stdout",
     "output_type": "stream",
     "text": [
      "data_X type:<class 'pandas.core.series.Series'>\n",
      "data_X shape:(300,)\n",
      "data_C1 type:<class 'pandas.core.series.Series'>\n",
      "data_C1 shape:(300,)\n",
      "data_C2 type:<class 'pandas.core.series.Series'>\n",
      "data_C2 shape:(300,)\n",
      "data_C3 type:<class 'pandas.core.series.Series'>\n",
      "data_C3 shape:(300,)\n"
     ]
    }
   ],
   "source": [
    "print(\"data_X type:\"+ str(type(data_X)))\n",
    "print(\"data_X shape:\"+ str(data_X.shape))\n",
    "print(\"data_C1 type:\"+ str(type(data_C1)))\n",
    "print(\"data_C1 shape:\"+ str(data_C1.shape))\n",
    "print(\"data_C2 type:\"+ str(type(data_C2)))\n",
    "print(\"data_C2 shape:\"+ str(data_C2.shape))\n",
    "print(\"data_C3 type:\"+ str(type(data_C3)))\n",
    "print(\"data_C3 shape:\"+ str(data_C3.shape))"
   ]
  },
  {
   "cell_type": "markdown",
   "metadata": {},
   "source": [
    "\n",
    "\n",
    "我們發現四個變數的 shape 都是 **(300,)** , 使用 `np.array()` 轉成 array 後也會是 **(300,)** ，我們稱之為 **rank 1 array**。\n",
    "\n",
    "在 Andrew Ng 的 Neural Networks and Deep Learning 課程中，有提到我們**應當避免使用 rank 1 array**。\n",
    "\n",
    "這裡我們可以使用`data[:, np.newaxis]`或是`data[:, None]`來解決此問題。\n"
   ]
  },
  {
   "cell_type": "code",
   "execution_count": 6,
   "metadata": {},
   "outputs": [],
   "source": [
    "# Reshape Rank 1 array\n",
    "data_X  = data_X[:,None]\n",
    "data_C1 = data_C1[:,None]\n",
    "data_C2 = data_C2[:,None]\n",
    "data_C3 = data_C3[:,None]"
   ]
  },
  {
   "cell_type": "markdown",
   "metadata": {},
   "source": [
    "我們可以再次觀察這些變數的 `type` 和 `shape`:"
   ]
  },
  {
   "cell_type": "code",
   "execution_count": 7,
   "metadata": {},
   "outputs": [
    {
     "name": "stdout",
     "output_type": "stream",
     "text": [
      "data_X type:<class 'numpy.ndarray'>\n",
      "data_X shape:(300, 1)\n",
      "data_C1 type:<class 'numpy.ndarray'>\n",
      "data_C1 shape:(300, 1)\n",
      "data_C2 type:<class 'numpy.ndarray'>\n",
      "data_C2 shape:(300, 1)\n",
      "data_C3 type:<class 'numpy.ndarray'>\n",
      "data_C3 shape:(300, 1)\n"
     ]
    }
   ],
   "source": [
    "print(\"data_X type:\"+ str(type(data_X)))\n",
    "print(\"data_X shape:\"+ str(data_X.shape))\n",
    "print(\"data_C1 type:\"+ str(type(data_C1)))\n",
    "print(\"data_C1 shape:\"+ str(data_C1.shape))\n",
    "print(\"data_C2 type:\"+ str(type(data_C2)))\n",
    "print(\"data_C2 shape:\"+ str(data_C2.shape))\n",
    "print(\"data_C3 type:\"+ str(type(data_C3)))\n",
    "print(\"data_C3 shape:\"+ str(data_C3.shape))"
   ]
  },
  {
   "cell_type": "markdown",
   "metadata": {},
   "source": [
    "我們可以看到我們有 300 筆的資料。現在我們把前 270 筆資料當作 train data，後 30 筆資料當作 test data。"
   ]
  },
  {
   "cell_type": "code",
   "execution_count": 8,
   "metadata": {},
   "outputs": [],
   "source": [
    "train_X = data_X[:270]\n",
    "train_C1 = data_C1[:270]\n",
    "train_C2 = data_C2[:270]\n",
    "train_C3 = data_C3[:270]\n",
    "test_X = data_X[270:]\n",
    "test_C1 = data_C1[270:]\n",
    "test_C2 = data_C2[270:]\n",
    "test_C3 = data_C3[270:]"
   ]
  },
  {
   "cell_type": "code",
   "execution_count": 9,
   "metadata": {},
   "outputs": [
    {
     "name": "stdout",
     "output_type": "stream",
     "text": [
      "train_X shape:(270, 1)\n",
      "train_C1 shape:(270, 1)\n",
      "train_C2 shape:(270, 1)\n",
      "train_C3 shape:(270, 1)\n",
      "test_X shape:(30, 1)\n",
      "test_C1 shape:(30, 1)\n",
      "test_C2 shape:(30, 1)\n",
      "test_C3 shape:(30, 1)\n"
     ]
    }
   ],
   "source": [
    "print(\"train_X shape:\"+ str(train_X.shape))\n",
    "print(\"train_C1 shape:\"+ str(train_C1.shape))\n",
    "print(\"train_C2 shape:\"+ str(train_C2.shape))\n",
    "print(\"train_C3 shape:\"+ str(train_C3.shape))\n",
    "print(\"test_X shape:\"+ str(test_X.shape))\n",
    "print(\"test_C1 shape:\"+ str(test_C1.shape))\n",
    "print(\"test_C2 shape:\"+ str(test_C2.shape))\n",
    "print(\"test_C3 shape:\"+ str(test_C3.shape))"
   ]
  },
  {
   "cell_type": "markdown",
   "metadata": {},
   "source": [
    "## 3 - Choose a model\n",
    "在這次的作業中，我們選擇使用 `Scikit-learn` 中的 [`LogisticRegression()`](https://scikit-learn.org/stable/modules/generated/sklearn.linear_model.LogisticRegression.html) 來建立模型。"
   ]
  },
  {
   "cell_type": "code",
   "execution_count": 10,
   "metadata": {},
   "outputs": [],
   "source": [
    "# 建立 Linear Regression 模型\n",
    "clf = linear_model.LogisticRegression(C=1e5, solver='lbfgs')"
   ]
  },
  {
   "cell_type": "markdown",
   "metadata": {},
   "source": [
    "## 4 - Train the model\n",
    "建立好模型之後，我們可以使用 `fit()` 來訓練模型。\n",
    "\n",
    "### 4-1 Example 1"
   ]
  },
  {
   "cell_type": "code",
   "execution_count": 11,
   "metadata": {},
   "outputs": [
    {
     "data": {
      "text/plain": [
       "LogisticRegression(C=100000.0, class_weight=None, dual=False,\n",
       "          fit_intercept=True, intercept_scaling=1, max_iter=100,\n",
       "          multi_class='warn', n_jobs=None, penalty='l2', random_state=None,\n",
       "          solver='lbfgs', tol=0.0001, verbose=0, warm_start=False)"
      ]
     },
     "execution_count": 11,
     "metadata": {},
     "output_type": "execute_result"
    }
   ],
   "source": [
    "# 訓練模型\n",
    "clf.fit(train_X,train_C1.ravel())"
   ]
  },
  {
   "cell_type": "markdown",
   "metadata": {},
   "source": [
    "最後我們可以列印出 $Coefficient$ 和 $Intercept$ 的值。"
   ]
  },
  {
   "cell_type": "code",
   "execution_count": 12,
   "metadata": {},
   "outputs": [
    {
     "name": "stdout",
     "output_type": "stream",
     "text": [
      "Coefficient:[[176.94875632]]\n",
      "Intercept:[135.66942227]\n"
     ]
    }
   ],
   "source": [
    "# 列印 Coefficient 和 Intercept\n",
    "print(\"Coefficient:\"+ str(clf.coef_))\n",
    "print(\"Intercept:\"+ str(clf.intercept_))"
   ]
  },
  {
   "cell_type": "markdown",
   "metadata": {},
   "source": [
    "# 5 - Test the Model\n",
    "訓練完模型後，我們可以用`predict()`來預測新資料，以及`score()`來看模型的績效。"
   ]
  },
  {
   "cell_type": "code",
   "execution_count": 13,
   "metadata": {},
   "outputs": [
    {
     "name": "stdout",
     "output_type": "stream",
     "text": [
      "Result:[0 0 1 1 0 0 1 1 1 1 0 1 1 1 1 1 0 0 1 1 0 0 1 0 1 0 0 1 1 1]\n"
     ]
    }
   ],
   "source": [
    "pred = clf.predict(test_X)\n",
    "print(\"Result:\" + str(pred))"
   ]
  },
  {
   "cell_type": "code",
   "execution_count": 14,
   "metadata": {},
   "outputs": [
    {
     "name": "stdout",
     "output_type": "stream",
     "text": [
      "Accuracy:1.0\n"
     ]
    }
   ],
   "source": [
    "accuracy = clf.score(test_X, test_C1)\n",
    "print(\"Accuracy:\" + str(accuracy))"
   ]
  },
  {
   "cell_type": "markdown",
   "metadata": {},
   "source": [
    "當 $A_1$=−0.902時，預測其結果。"
   ]
  },
  {
   "cell_type": "code",
   "execution_count": 15,
   "metadata": {},
   "outputs": [
    {
     "name": "stdout",
     "output_type": "stream",
     "text": [
      "Result:[0]\n"
     ]
    }
   ],
   "source": [
    "pred = clf.predict([[-0.902]])\n",
    "print(\"Result:\" + str(pred))"
   ]
  }
 ],
 "metadata": {
  "kernelspec": {
   "display_name": "Python 3",
   "language": "python",
   "name": "python3"
  },
  "language_info": {
   "codemirror_mode": {
    "name": "ipython",
    "version": 3
   },
   "file_extension": ".py",
   "mimetype": "text/x-python",
   "name": "python",
   "nbconvert_exporter": "python",
   "pygments_lexer": "ipython3",
   "version": "3.5.6"
  }
 },
 "nbformat": 4,
 "nbformat_minor": 2
}
