{
 "cells": [
  {
   "cell_type": "markdown",
   "metadata": {},
   "source": [
    "# Logistic Regression\n",
    "\n",
    "我們將透過這份作業學習 Logistic Regression。"
   ]
  },
  {
   "cell_type": "markdown",
   "metadata": {},
   "source": [
    "## 1 - Packages ##\n",
    "\n",
    "首先，我們需要 import 一些需要使用到的套件。\n",
    "- [numpy](http://www.numpy.org) 是 Python 的擴充程式庫，提供大量的數學函式庫與矩陣運算等。\n",
    "- [Pandas](http://pandas.pydata.org) 是一個提供數據分析的 Python 函式庫。\n",
    "- [Scikit-learn](http://scikit-learn.org) 是一個提供 Machine Learning 運算的函式庫。"
   ]
  },
  {
   "cell_type": "code",
   "execution_count": 1,
   "metadata": {},
   "outputs": [],
   "source": [
    "import numpy as np\n",
    "import pandas as pd\n",
    "from sklearn import datasets, linear_model"
   ]
  },
  {
   "cell_type": "markdown",
   "metadata": {},
   "source": [
    "## 2 - Overview of the Dataset\n",
    "我們有一個 Dataset 包含\n",
    "- X\n",
    "- Y1\n",
    "- Y2\n",
    "- Y3\n",
    "\n",
    "我們之後會透過 Scikit-learn 來找出他們之間的關係。\n",
    "\n",
    "首先，我們透過 `pd.read_csv()` 來讀取 csv 檔案。"
   ]
  },
  {
   "cell_type": "code",
   "execution_count": 2,
   "metadata": {},
   "outputs": [],
   "source": [
    "# csv 檔案的位置\n",
    "csv_file = \"logistic.regression.csv\"\n",
    "\n",
    "# 讀取 csv\n",
    "dataset = pd.read_csv(csv_file)"
   ]
  },
  {
   "cell_type": "markdown",
   "metadata": {},
   "source": [
    "`dataset`是一個 DataFrame，我們可以使用 `print()` 來看看 dataset。"
   ]
  },
  {
   "cell_type": "code",
   "execution_count": 3,
   "metadata": {},
   "outputs": [
    {
     "name": "stdout",
     "output_type": "stream",
     "text": [
      "      X        Y1        Y2            Y3\n",
      "0  -3.0  0.002473  0.000006  1.523000e-08\n",
      "1  -2.9  0.003018  0.000009  2.775080e-08\n",
      "2  -2.8  0.003684  0.000014  5.056530e-08\n",
      "3  -2.7  0.004496  0.000020  9.213600e-08\n",
      "4  -2.6  0.005486  0.000030  1.678830e-07\n",
      "5  -2.5  0.006693  0.000045  3.059020e-07\n",
      "6  -2.4  0.008163  0.000068  5.573900e-07\n",
      "7  -2.3  0.009952  0.000101  1.015630e-06\n",
      "8  -2.2  0.012128  0.000151  1.850600e-06\n",
      "9  -2.1  0.014774  0.000225  3.372000e-06\n",
      "10 -2.0  0.017986  0.000335  6.144170e-06\n",
      "11 -1.9  0.021881  0.000500  1.119540e-05\n",
      "12 -1.8  0.026597  0.000746  2.039910e-05\n",
      "13 -1.7  0.032295  0.001113  3.716890e-05\n",
      "14 -1.6  0.039166  0.001659  6.772410e-05\n",
      "15 -1.5  0.047426  0.002473  1.233950e-04\n",
      "16 -1.4  0.057324  0.003684  2.248170e-04\n",
      "17 -1.3  0.069138  0.005486  4.095670e-04\n",
      "18 -1.2  0.083173  0.008163  7.460290e-04\n",
      "19 -1.1  0.099750  0.012128  1.358520e-03\n",
      "20 -1.0  0.119203  0.017986  2.472623e-03\n",
      "21 -0.9  0.141851  0.026597  4.496273e-03\n",
      "22 -0.8  0.167982  0.039166  8.162571e-03\n",
      "23 -0.7  0.197816  0.057324  1.477403e-02\n",
      "24 -0.6  0.231475  0.083173  2.659699e-02\n",
      "25 -0.5  0.268941  0.119203  4.742587e-02\n",
      "26 -0.4  0.310026  0.167982  8.317270e-02\n",
      "27 -0.3  0.354344  0.231475  1.418511e-01\n",
      "28 -0.2  0.401312  0.310026  2.314752e-01\n",
      "29 -0.1  0.450166  0.401312  3.543437e-01\n",
      "..  ...       ...       ...           ...\n",
      "31  0.1  0.549834  0.598688  6.456563e-01\n",
      "32  0.2  0.598688  0.689974  7.685248e-01\n",
      "33  0.3  0.645656  0.768525  8.581489e-01\n",
      "34  0.4  0.689974  0.832018  9.168273e-01\n",
      "35  0.5  0.731059  0.880797  9.525741e-01\n",
      "36  0.6  0.768525  0.916827  9.734030e-01\n",
      "37  0.7  0.802184  0.942676  9.852260e-01\n",
      "38  0.8  0.832018  0.960834  9.918374e-01\n",
      "39  0.9  0.858149  0.973403  9.955037e-01\n",
      "40  1.0  0.880797  0.982014  9.975274e-01\n",
      "41  1.1  0.900250  0.987872  9.986415e-01\n",
      "42  1.2  0.916827  0.991837  9.992540e-01\n",
      "43  1.3  0.930862  0.994514  9.995904e-01\n",
      "44  1.4  0.942676  0.996316  9.997752e-01\n",
      "45  1.5  0.952574  0.997527  9.998766e-01\n",
      "46  1.6  0.960834  0.998341  9.999323e-01\n",
      "47  1.7  0.967705  0.998887  9.999628e-01\n",
      "48  1.8  0.973403  0.999254  9.999796e-01\n",
      "49  1.9  0.978119  0.999500  9.999888e-01\n",
      "50  2.0  0.982014  0.999665  9.999939e-01\n",
      "51  2.1  0.985226  0.999775  9.999966e-01\n",
      "52  2.2  0.987872  0.999849  9.999981e-01\n",
      "53  2.3  0.990048  0.999899  9.999990e-01\n",
      "54  2.4  0.991837  0.999932  9.999994e-01\n",
      "55  2.5  0.993307  0.999955  9.999997e-01\n",
      "56  2.6  0.994514  0.999970  9.999998e-01\n",
      "57  2.7  0.995504  0.999980  9.999999e-01\n",
      "58  2.8  0.996316  0.999986  9.999999e-01\n",
      "59  2.9  0.996982  0.999991  1.000000e+00\n",
      "60  3.0  0.997527  0.999994  1.000000e+00\n",
      "\n",
      "[61 rows x 4 columns]\n"
     ]
    }
   ],
   "source": [
    "# 印出 dataset\n",
    "print(dataset)"
   ]
  },
  {
   "cell_type": "markdown",
   "metadata": {},
   "source": [
    "我們分別取出 `data_X`, `data_Y1`, `data_Y2`, `data_Y3`。\n",
    "- 我們可以使用 [`iloc`](https://pandas.pydata.org/pandas-docs/stable/reference/api/pandas.DataFrame.iloc.html)取得數據。"
   ]
  },
  {
   "cell_type": "code",
   "execution_count": 4,
   "metadata": {},
   "outputs": [],
   "source": [
    "# 取出 X\n",
    "data_X = dataset.iloc[:, 0]\n",
    "\n",
    "# 取出 Y1\n",
    "data_Y1 = dataset.iloc[:, 1]\n",
    "\n",
    "# 取出 Y2\n",
    "data_Y2 = dataset.iloc[:, 2]\n",
    "\n",
    "# 取出 Y3\n",
    "data_Y3 = dataset.iloc[:, 3]"
   ]
  },
  {
   "cell_type": "markdown",
   "metadata": {},
   "source": [
    "我們可以觀察這些變數的 `type` 和 `shape`:"
   ]
  },
  {
   "cell_type": "code",
   "execution_count": 5,
   "metadata": {},
   "outputs": [
    {
     "name": "stdout",
     "output_type": "stream",
     "text": [
      "data_X type:<class 'pandas.core.series.Series'>\n",
      "data_X shape:(61,)\n",
      "data_Y1 type:<class 'pandas.core.series.Series'>\n",
      "data_Y1 shape:(61,)\n",
      "data_Y2 type:<class 'pandas.core.series.Series'>\n",
      "data_Y2 shape:(61,)\n",
      "data_Y3 type:<class 'pandas.core.series.Series'>\n",
      "data_Y3 shape:(61,)\n"
     ]
    }
   ],
   "source": [
    "print(\"data_X type:\"+ str(type(data_X)))\n",
    "print(\"data_X shape:\"+ str(data_X.shape))\n",
    "print(\"data_Y1 type:\"+ str(type(data_Y1)))\n",
    "print(\"data_Y1 shape:\"+ str(data_Y1.shape))\n",
    "print(\"data_Y2 type:\"+ str(type(data_Y2)))\n",
    "print(\"data_Y2 shape:\"+ str(data_Y2.shape))\n",
    "print(\"data_Y3 type:\"+ str(type(data_Y3)))\n",
    "print(\"data_Y3 shape:\"+ str(data_Y3.shape))"
   ]
  },
  {
   "cell_type": "markdown",
   "metadata": {},
   "source": [
    "\n",
    "\n",
    "我們發現四個變數的 shape 都是 **(300,)** , 使用 `np.array()` 轉成 array 後也會是 **(300,)** ，我們稱之為 **rank 1 array**。\n",
    "\n",
    "在 Andrew Ng 的 Neural Networks and Deep Learning 課程中，有提到我們**應當避免使用 rank 1 array**。\n",
    "\n",
    "這裡我們可以使用`data[:, np.newaxis]`或是`data[:, None]`來解決此問題。\n"
   ]
  },
  {
   "cell_type": "code",
   "execution_count": 6,
   "metadata": {},
   "outputs": [],
   "source": [
    "# Reshape Rank 1 array\n",
    "data_X  = data_X[:,None]\n",
    "data_Y1 = data_Y1[:,None]\n",
    "data_Y2 = data_Y2[:,None]\n",
    "data_Y3 = data_Y3[:,None]"
   ]
  },
  {
   "cell_type": "markdown",
   "metadata": {},
   "source": [
    "我們可以再次觀察這些變數的 `type` 和 `shape`:"
   ]
  },
  {
   "cell_type": "code",
   "execution_count": 7,
   "metadata": {},
   "outputs": [
    {
     "name": "stdout",
     "output_type": "stream",
     "text": [
      "data_X type:<class 'numpy.ndarray'>\n",
      "data_X shape:(61, 1)\n",
      "data_Y1 type:<class 'numpy.ndarray'>\n",
      "data_Y1 shape:(61, 1)\n",
      "data_Y2 type:<class 'numpy.ndarray'>\n",
      "data_Y2 shape:(61, 1)\n",
      "data_Y3 type:<class 'numpy.ndarray'>\n",
      "data_Y3 shape:(61, 1)\n"
     ]
    }
   ],
   "source": [
    "print(\"data_X type:\"+ str(type(data_X)))\n",
    "print(\"data_X shape:\"+ str(data_X.shape))\n",
    "print(\"data_Y1 type:\"+ str(type(data_Y1)))\n",
    "print(\"data_Y1 shape:\"+ str(data_Y1.shape))\n",
    "print(\"data_Y2 type:\"+ str(type(data_Y2)))\n",
    "print(\"data_Y2 shape:\"+ str(data_Y2.shape))\n",
    "print(\"data_Y3 type:\"+ str(type(data_Y3)))\n",
    "print(\"data_Y3 shape:\"+ str(data_Y3.shape))"
   ]
  },
  {
   "cell_type": "markdown",
   "metadata": {},
   "source": [
    "另外，我們需要對`data_Y`的值進行一些改變，當資料`>=0.5`時，將其換成1；當資料`<0.5`時，將其換成0。"
   ]
  },
  {
   "cell_type": "code",
   "execution_count": 8,
   "metadata": {},
   "outputs": [],
   "source": [
    "data_Y1 = np.where(data_Y1>0.5, 1, 0)\n",
    "data_Y2 = np.where(data_Y2>0.5, 1, 0)\n",
    "data_Y3 = np.where(data_Y3>0.5, 1, 0)"
   ]
  },
  {
   "cell_type": "markdown",
   "metadata": {},
   "source": [
    "我們可以使用 `print()` 來看看 `data_Y1`。"
   ]
  },
  {
   "cell_type": "code",
   "execution_count": 9,
   "metadata": {},
   "outputs": [
    {
     "name": "stdout",
     "output_type": "stream",
     "text": [
      "[[0]\n",
      " [0]\n",
      " [0]\n",
      " [0]\n",
      " [0]\n",
      " [0]\n",
      " [0]\n",
      " [0]\n",
      " [0]\n",
      " [0]\n",
      " [0]\n",
      " [0]\n",
      " [0]\n",
      " [0]\n",
      " [0]\n",
      " [0]\n",
      " [0]\n",
      " [0]\n",
      " [0]\n",
      " [0]\n",
      " [0]\n",
      " [0]\n",
      " [0]\n",
      " [0]\n",
      " [0]\n",
      " [0]\n",
      " [0]\n",
      " [0]\n",
      " [0]\n",
      " [0]\n",
      " [0]\n",
      " [1]\n",
      " [1]\n",
      " [1]\n",
      " [1]\n",
      " [1]\n",
      " [1]\n",
      " [1]\n",
      " [1]\n",
      " [1]\n",
      " [1]\n",
      " [1]\n",
      " [1]\n",
      " [1]\n",
      " [1]\n",
      " [1]\n",
      " [1]\n",
      " [1]\n",
      " [1]\n",
      " [1]\n",
      " [1]\n",
      " [1]\n",
      " [1]\n",
      " [1]\n",
      " [1]\n",
      " [1]\n",
      " [1]\n",
      " [1]\n",
      " [1]\n",
      " [1]\n",
      " [1]]\n"
     ]
    }
   ],
   "source": [
    "print(data_Y1)"
   ]
  },
  {
   "cell_type": "markdown",
   "metadata": {},
   "source": [
    "## 3 - Choose a model\n",
    "在這次的作業中，我們選擇使用 `Scikit-learn` 中的 [`LogisticRegression()`](https://scikit-learn.org/stable/modules/generated/sklearn.linear_model.LogisticRegression.html) 來建立模型。"
   ]
  },
  {
   "cell_type": "code",
   "execution_count": 10,
   "metadata": {},
   "outputs": [],
   "source": [
    "# 建立 Linear Regression 模型\n",
    "clf = linear_model.LogisticRegression(C=1e5, solver='lbfgs')"
   ]
  },
  {
   "cell_type": "markdown",
   "metadata": {},
   "source": [
    "## 4 - Train the model\n",
    "建立好模型之後，我們可以使用 `fit()` 來訓練模型。\n",
    "\n",
    "### 4-1 Example 1"
   ]
  },
  {
   "cell_type": "code",
   "execution_count": 11,
   "metadata": {},
   "outputs": [
    {
     "data": {
      "text/plain": [
       "LogisticRegression(C=100000.0, class_weight=None, dual=False,\n",
       "          fit_intercept=True, intercept_scaling=1, max_iter=100,\n",
       "          multi_class='warn', n_jobs=None, penalty='l2', random_state=None,\n",
       "          solver='lbfgs', tol=0.0001, verbose=0, warm_start=False)"
      ]
     },
     "execution_count": 11,
     "metadata": {},
     "output_type": "execute_result"
    }
   ],
   "source": [
    "# 訓練模型\n",
    "clf.fit(data_X,data_Y1.ravel())"
   ]
  },
  {
   "cell_type": "markdown",
   "metadata": {},
   "source": [
    "最後我們可以列印出 $Coefficient$ 和 $Intercept$ 的值。"
   ]
  },
  {
   "cell_type": "code",
   "execution_count": 12,
   "metadata": {},
   "outputs": [
    {
     "name": "stdout",
     "output_type": "stream",
     "text": [
      "Coefficient:[[93.09817642]]\n",
      "Intercept:[-4.65813391]\n"
     ]
    }
   ],
   "source": [
    "# 列印 Coefficient 和 Intercept\n",
    "print(\"Coefficient:\"+ str(clf.coef_))\n",
    "print(\"Intercept:\"+ str(clf.intercept_))"
   ]
  }
 ],
 "metadata": {
  "kernelspec": {
   "display_name": "Python 3",
   "language": "python",
   "name": "python3"
  },
  "language_info": {
   "codemirror_mode": {
    "name": "ipython",
    "version": 3
   },
   "file_extension": ".py",
   "mimetype": "text/x-python",
   "name": "python",
   "nbconvert_exporter": "python",
   "pygments_lexer": "ipython3",
   "version": "3.5.6"
  }
 },
 "nbformat": 4,
 "nbformat_minor": 2
}
