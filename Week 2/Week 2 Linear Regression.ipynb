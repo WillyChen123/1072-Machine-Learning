{
 "cells": [
  {
   "cell_type": "markdown",
   "metadata": {},
   "source": [
    "# Linear Regression\n",
    "\n",
    "我們將透過這份作業學習 Linear Regression。"
   ]
  },
  {
   "cell_type": "markdown",
   "metadata": {},
   "source": [
    "## 1 - Packages ##\n",
    "\n",
    "首先，我們需要 import 一些需要使用到的套件。\n",
    "- [numpy](http://www.numpy.org) 是 Python 的擴充程式庫，提供大量的數學函式庫與矩陣運算等。\n",
    "- [Pandas](http://pandas.pydata.org) 是一個提供數據分析的 Python 函式庫。\n",
    "- [Scikit-learn](http://scikit-learn.org) 是一個提供 Machine Learning 運算的函式庫。"
   ]
  },
  {
   "cell_type": "code",
   "execution_count": 1,
   "metadata": {},
   "outputs": [],
   "source": [
    "import numpy as np\n",
    "import pandas as pd\n",
    "from sklearn import datasets, linear_model"
   ]
  },
  {
   "cell_type": "markdown",
   "metadata": {},
   "source": [
    "## 2 - Overview of the Dataset\n",
    "我們有一個 Dataset 包含\n",
    "- X\n",
    "- Y1\n",
    "- Y2\n",
    "- Y3\n",
    "\n",
    "我們之後會透過 Scikit-learn 來找出他們之間的關係。\n",
    "\n",
    "首先，我們透過 `pd.read_csv()` 來讀取 csv 檔案。"
   ]
  },
  {
   "cell_type": "code",
   "execution_count": 2,
   "metadata": {},
   "outputs": [],
   "source": [
    "# csv 檔案的位置\n",
    "csv_file = \"linear.regression.csv\"\n",
    "\n",
    "# 讀取 csv\n",
    "dataset = pd.read_csv(csv_file)"
   ]
  },
  {
   "cell_type": "markdown",
   "metadata": {},
   "source": [
    "`dataset`是一個 DataFrame，我們可以使用 `print()` 來看看 dataset。"
   ]
  },
  {
   "cell_type": "code",
   "execution_count": 3,
   "metadata": {},
   "outputs": [
    {
     "name": "stdout",
     "output_type": "stream",
     "text": [
      "             X         Y1         Y2         Y3\n",
      "0    12.699206   6.539841   6.539841   6.239841\n",
      "1   -16.338590   0.732282  -0.767718  -0.067718\n",
      "2    16.566408   7.313282   5.513282   8.013282\n",
      "3    47.881772  13.576354  14.776354  14.176354\n",
      "4    15.416405   7.083281   7.383281   6.483281\n",
      "5    15.008080   7.001616   4.301616   6.001616\n",
      "6    50.411050  14.082210  11.082210  13.282210\n",
      "7   -10.979108   1.804178   1.804178   1.604178\n",
      "8    26.302514   9.260503  10.760503   9.760503\n",
      "9     9.629661   5.925932   6.225932   5.325932\n",
      "10   25.423108   9.084622  11.784622   8.184622\n",
      "11    8.692681   5.738536   3.038536   5.238536\n",
      "12   16.652935   7.330587   8.530587   7.230587\n",
      "13   26.409103   9.281821  11.381821   8.881821\n",
      "14   38.989969  11.797994  14.497994  12.097994\n",
      "15   -2.706933   3.458613   4.058613   2.758613\n",
      "16   -5.105699   2.978860   2.978860   2.778860\n",
      "17   25.985092   9.197018  10.997018   8.397018\n",
      "18   37.521462  11.504292  10.004292  11.504292\n",
      "19    7.740839   5.548168   2.548168   6.448168\n",
      "20   13.948037   6.789607   5.589607   6.489607\n",
      "21    1.540235   4.308047   4.908047   4.808047\n",
      "22    3.905997   4.781199   2.081199   4.281199\n",
      "23  -10.231078   1.953784   3.453784   2.853784\n",
      "24   17.654248   7.530850   8.430850   6.830850\n",
      "25  -13.255757   1.348849  -0.451151   0.748849\n",
      "26   13.824958   6.764992   6.764992   7.364992\n",
      "27   28.618496   9.723699   7.623699  10.123699\n",
      "28    4.366874   4.873375   7.873375   4.573375\n",
      "29   -9.465555   2.106889   2.406889   1.406889\n",
      "..         ...        ...        ...        ...\n",
      "270  45.528760  13.105752  11.005752  13.205752\n",
      "271   5.497442   5.099488   6.899488   5.399488\n",
      "272  50.919802  14.183960  17.183960  13.683960\n",
      "273  54.795689  14.959138  14.659138  15.859138\n",
      "274 -13.248639   1.350272   0.150272   1.250272\n",
      "275  23.815183   8.763037  11.163037   8.563037\n",
      "276  55.846056  15.169211  13.069211  15.169211\n",
      "277  49.678380  13.935676  11.235676  13.135676\n",
      "278  13.166107   6.633221   6.933221   5.933221\n",
      "279  15.577293   7.115459   8.615459   7.015459\n",
      "280   2.131879   4.426376   6.826376   4.926376\n",
      "281  23.077252   8.615450   5.915450   9.415450\n",
      "282  50.762867  14.152573  11.452573  14.252573\n",
      "283   8.209315   5.641863   8.341863   6.241863\n",
      "284  -8.400598   2.319880   2.619880   1.519880\n",
      "285  57.797472  15.559494  13.459494  15.959494\n",
      "286  39.332185  11.866437  14.866437  12.266437\n",
      "287   9.667453   5.933491   8.333491   5.933491\n",
      "288  39.437346  11.887469  10.987469  12.287469\n",
      "289  41.858920  12.371784  13.871784  11.671784\n",
      "290  35.656612  11.131322  11.731322  11.031322\n",
      "291  50.015046  14.003009  13.103009  15.003009\n",
      "292  -6.419000   2.716200   4.816200   2.816200\n",
      "293  46.499464  13.299893  10.299893  13.399893\n",
      "294  -8.585574   2.282885  -0.417115   2.282885\n",
      "295  16.612363   7.322473   6.122473   7.522473\n",
      "296  30.961347  10.192269   9.292269  10.492269\n",
      "297  51.666517  14.333303  14.333303  14.433303\n",
      "298  14.590073   6.918015   9.018015   6.218015\n",
      "299  35.088638  11.017728  10.717728  10.117728\n",
      "\n",
      "[300 rows x 4 columns]\n"
     ]
    }
   ],
   "source": [
    "# 印出 dataset\n",
    "print(dataset)"
   ]
  },
  {
   "cell_type": "markdown",
   "metadata": {},
   "source": [
    "我們分別取出 `data_X`, `data_Y1`, `data_Y2`, `data_Y3`。\n",
    "- 我們可以使用 [`iloc`](https://pandas.pydata.org/pandas-docs/stable/reference/api/pandas.DataFrame.iloc.html)取得數據。"
   ]
  },
  {
   "cell_type": "code",
   "execution_count": 4,
   "metadata": {},
   "outputs": [],
   "source": [
    "# 取出 X\n",
    "data_X = dataset.iloc[:, 0]\n",
    "\n",
    "# 取出 Y1\n",
    "data_Y1 = dataset.iloc[:, 1]\n",
    "\n",
    "# 取出 Y2\n",
    "data_Y2 = dataset.iloc[:, 2]\n",
    "\n",
    "# 取出 Y3\n",
    "data_Y3 = dataset.iloc[:, 3]"
   ]
  },
  {
   "cell_type": "markdown",
   "metadata": {},
   "source": [
    "我們可以觀察這些變數的 `type` 和 `shape`:"
   ]
  },
  {
   "cell_type": "code",
   "execution_count": 5,
   "metadata": {},
   "outputs": [
    {
     "name": "stdout",
     "output_type": "stream",
     "text": [
      "data_X type:<class 'pandas.core.series.Series'>\n",
      "data_X shape:(300,)\n",
      "data_Y1 type:<class 'pandas.core.series.Series'>\n",
      "data_Y1 shape:(300,)\n",
      "data_Y2 type:<class 'pandas.core.series.Series'>\n",
      "data_Y2 shape:(300,)\n",
      "data_Y3 type:<class 'pandas.core.series.Series'>\n",
      "data_Y3 shape:(300,)\n"
     ]
    }
   ],
   "source": [
    "print(\"data_X type:\"+ str(type(data_X)))\n",
    "print(\"data_X shape:\"+ str(data_X.shape))\n",
    "print(\"data_Y1 type:\"+ str(type(data_Y1)))\n",
    "print(\"data_Y1 shape:\"+ str(data_Y1.shape))\n",
    "print(\"data_Y2 type:\"+ str(type(data_Y2)))\n",
    "print(\"data_Y2 shape:\"+ str(data_Y2.shape))\n",
    "print(\"data_Y3 type:\"+ str(type(data_Y3)))\n",
    "print(\"data_Y3 shape:\"+ str(data_Y3.shape))"
   ]
  },
  {
   "cell_type": "markdown",
   "metadata": {},
   "source": [
    "\n",
    "\n",
    "我們發現四個變數的 shape 都是 **(300,)** , 使用 `np.array()` 轉成 array 後也會是 **(300,)** ，我們稱之為 **rank 1 array**。\n",
    "\n",
    "在 Andrew Ng 的 Neural Networks and Deep Learning 課程中，有提到我們**應當避免使用 rank 1 array**。\n",
    "\n",
    "這裡我們可以使用`data[:, np.newaxis]`或是`data[:, None]`來解決此問題。\n"
   ]
  },
  {
   "cell_type": "code",
   "execution_count": 6,
   "metadata": {},
   "outputs": [],
   "source": [
    "# Reshape Rank 1 array\n",
    "data_X  = data_X[:,None]\n",
    "data_Y1 = data_Y1[:,None]\n",
    "data_Y2 = data_Y2[:,None]\n",
    "data_Y3 = data_Y3[:,None]"
   ]
  },
  {
   "cell_type": "markdown",
   "metadata": {},
   "source": [
    "我們可以再次觀察這些變數的 `type` 和 `shape`:"
   ]
  },
  {
   "cell_type": "code",
   "execution_count": 7,
   "metadata": {},
   "outputs": [
    {
     "name": "stdout",
     "output_type": "stream",
     "text": [
      "data_X type:<class 'numpy.ndarray'>\n",
      "data_X shape:(300, 1)\n",
      "data_Y1 type:<class 'numpy.ndarray'>\n",
      "data_Y1 shape:(300, 1)\n",
      "data_Y2 type:<class 'numpy.ndarray'>\n",
      "data_Y2 shape:(300, 1)\n",
      "data_Y3 type:<class 'numpy.ndarray'>\n",
      "data_Y3 shape:(300, 1)\n"
     ]
    }
   ],
   "source": [
    "print(\"data_X type:\"+ str(type(data_X)))\n",
    "print(\"data_X shape:\"+ str(data_X.shape))\n",
    "print(\"data_Y1 type:\"+ str(type(data_Y1)))\n",
    "print(\"data_Y1 shape:\"+ str(data_Y1.shape))\n",
    "print(\"data_Y2 type:\"+ str(type(data_Y2)))\n",
    "print(\"data_Y2 shape:\"+ str(data_Y2.shape))\n",
    "print(\"data_Y3 type:\"+ str(type(data_Y3)))\n",
    "print(\"data_Y3 shape:\"+ str(data_Y3.shape))"
   ]
  },
  {
   "cell_type": "markdown",
   "metadata": {},
   "source": [
    "## 3 - Choose a model\n",
    "在這次的作業中，我們選擇使用 `Scikit-learn` 中的 `LinearRegression()` 來建立模型。\n",
    "\n",
    "其中方程式定義如下\n",
    "$$ y=Ax+B $$\n",
    "\n",
    "我們希望可以透過訓練學習到加權數(weight) `A`和`B`。"
   ]
  },
  {
   "cell_type": "code",
   "execution_count": 8,
   "metadata": {},
   "outputs": [],
   "source": [
    "# 建立 Linear Regression 模型\n",
    "regr = linear_model.LinearRegression()"
   ]
  },
  {
   "cell_type": "markdown",
   "metadata": {},
   "source": [
    "## 4 - Train the model\n",
    "建立好模型之後，我們可以使用 `fit()` 來訓練模型，找到上述線性方程式的加權。\n",
    "\n",
    "### 4-1 Example 1\n",
    "找出 $Y_1$和 X 的關係。\n",
    "$$Y_1 = A_1x+B_1$$"
   ]
  },
  {
   "cell_type": "code",
   "execution_count": 9,
   "metadata": {},
   "outputs": [
    {
     "data": {
      "text/plain": [
       "LinearRegression(copy_X=True, fit_intercept=True, n_jobs=None,\n",
       "         normalize=False)"
      ]
     },
     "execution_count": 9,
     "metadata": {},
     "output_type": "execute_result"
    }
   ],
   "source": [
    "# 訓練模型\n",
    "regr.fit(data_X,data_Y1)"
   ]
  },
  {
   "cell_type": "markdown",
   "metadata": {},
   "source": [
    "最後我們可以列印出 $A_1$ 和 $B_1$ 的值。"
   ]
  },
  {
   "cell_type": "code",
   "execution_count": 10,
   "metadata": {},
   "outputs": [
    {
     "name": "stdout",
     "output_type": "stream",
     "text": [
      "A1:[[0.2]]\n",
      "B1:[4.]\n"
     ]
    }
   ],
   "source": [
    "# 列印 A1 和 B1\n",
    "print(\"A1:\"+ str(regr.coef_))\n",
    "print(\"B1:\"+ str(regr.intercept_))"
   ]
  },
  {
   "cell_type": "markdown",
   "metadata": {},
   "source": [
    "### 4-2 Example 2\n",
    "找出 $Y_2$和 X 的關係。\n",
    "$$Y_2 = A_2x+B_2$$"
   ]
  },
  {
   "cell_type": "code",
   "execution_count": 11,
   "metadata": {},
   "outputs": [
    {
     "data": {
      "text/plain": [
       "LinearRegression(copy_X=True, fit_intercept=True, n_jobs=None,\n",
       "         normalize=False)"
      ]
     },
     "execution_count": 11,
     "metadata": {},
     "output_type": "execute_result"
    }
   ],
   "source": [
    "# 訓練模型\n",
    "regr.fit(data_X,data_Y2)"
   ]
  },
  {
   "cell_type": "markdown",
   "metadata": {},
   "source": [
    "最後我們可以列印出 $A_2$ 和 $B_2$ 的值。"
   ]
  },
  {
   "cell_type": "code",
   "execution_count": 12,
   "metadata": {},
   "outputs": [
    {
     "name": "stdout",
     "output_type": "stream",
     "text": [
      "A2:[[0.20667775]]\n",
      "B2:[3.90038936]\n"
     ]
    }
   ],
   "source": [
    "# 列印 A2 和 B2\n",
    "print(\"A2:\"+ str(regr.coef_))\n",
    "print(\"B2:\"+ str(regr.intercept_))"
   ]
  },
  {
   "cell_type": "markdown",
   "metadata": {},
   "source": [
    "### 4-3 Example 3\n",
    "找出 $Y_3$和 X 的關係。\n",
    "$$Y_3 = A_3x+B_3$$"
   ]
  },
  {
   "cell_type": "code",
   "execution_count": 13,
   "metadata": {},
   "outputs": [
    {
     "data": {
      "text/plain": [
       "LinearRegression(copy_X=True, fit_intercept=True, n_jobs=None,\n",
       "         normalize=False)"
      ]
     },
     "execution_count": 13,
     "metadata": {},
     "output_type": "execute_result"
    }
   ],
   "source": [
    "# 訓練模型\n",
    "regr.fit(data_X,data_Y3)"
   ]
  },
  {
   "cell_type": "markdown",
   "metadata": {},
   "source": [
    "最後我們可以列印出 $A_3$ 和 $B_3$ 的值。"
   ]
  },
  {
   "cell_type": "code",
   "execution_count": 14,
   "metadata": {},
   "outputs": [
    {
     "name": "stdout",
     "output_type": "stream",
     "text": [
      "A3:[[0.20017319]]\n",
      "B3:[4.00571246]\n"
     ]
    }
   ],
   "source": [
    "# 列印 A3 和 B3\n",
    "print(\"A3:\"+ str(regr.coef_))\n",
    "print(\"B3:\"+ str(regr.intercept_))"
   ]
  }
 ],
 "metadata": {
  "kernelspec": {
   "display_name": "Python 3",
   "language": "python",
   "name": "python3"
  },
  "language_info": {
   "codemirror_mode": {
    "name": "ipython",
    "version": 3
   },
   "file_extension": ".py",
   "mimetype": "text/x-python",
   "name": "python",
   "nbconvert_exporter": "python",
   "pygments_lexer": "ipython3",
   "version": "3.5.6"
  }
 },
 "nbformat": 4,
 "nbformat_minor": 2
}
